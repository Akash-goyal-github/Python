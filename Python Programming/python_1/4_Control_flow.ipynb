{
 "cells": [
  {
   "cell_type": "code",
   "execution_count": 3,
   "metadata": {},
   "outputs": [
    {
     "name": "stdout",
     "output_type": "stream",
     "text": [
      "a is true!\n",
      "b is true!\n",
      "c is true!\n",
      "d is false!\n"
     ]
    }
   ],
   "source": [
    "a = 10; b = 25 ; c = 100; d = (\"cat\", \"dog\", \"bird\")\n",
    "if a == 10:\n",
    "    print(\"a is true!\")\n",
    "    if b < 40:\n",
    "        print(\"b is true!\")\n",
    "        if c > 9:\n",
    "            print(\"c is true!\")\n",
    "            if \"zebra\" in d:\n",
    "                print(\"d is true!\")\n",
    "            else:\n",
    "                print(\"d is false!\")\n",
    "        else:\n",
    "            print(\"c is false!\")\n",
    "    else:\n",
    "        print(\"b is false!\")\n",
    "else:\n",
    "    print(\"a is false!\")"
   ]
  },
  {
   "cell_type": "code",
   "execution_count": 4,
   "metadata": {},
   "outputs": [
    {
     "name": "stdout",
     "output_type": "stream",
     "text": [
      "Enter a number: 4\n",
      "Keep looking!\n"
     ]
    }
   ],
   "source": [
    "num = eval(input(\"Enter a number: \"))\n",
    "if num >= 3:\n",
    "    print(\"Keep looking!\")\n",
    "elif d[num] == \"cat\":\n",
    "    print(\"Found a {}\".format(d[num]))\n",
    "elif d[num] == \"dog\":\n",
    "    print(\"Found a {}\".format(d[num]))\n",
    "else:\n",
    "    print(\"Found a bird!\")"
   ]
  },
  {
   "cell_type": "code",
   "execution_count": 5,
   "metadata": {},
   "outputs": [
    {
     "data": {
      "text/plain": [
       "[[0, 1, 2, 3, 4, 5, 6, 7, 8, 9, 10],\n",
       " [11, 12, 13, 14, 15, 16, 17, 18, 19, 20],\n",
       " [21, 22, 23, 24, 25, 26, 27, 28, 29, 30]]"
      ]
     },
     "execution_count": 5,
     "metadata": {},
     "output_type": "execute_result"
    }
   ],
   "source": [
    "total = [list(range(11)), list(range(11, 21)), list(range(21, 31))]\n",
    "total"
   ]
  },
  {
   "cell_type": "code",
   "execution_count": 6,
   "metadata": {},
   "outputs": [
    {
     "name": "stdout",
     "output_type": "stream",
     "text": [
      "Enter a number: 40\n",
      "not in any list\n"
     ]
    }
   ],
   "source": [
    "v = eval(input(\"Enter a number: \"))\n",
    "if v in total[0]:\n",
    "    print(v, \"in list one\")\n",
    "elif v in total[1]:\n",
    "    print(v, \"in list two\")\n",
    "elif v in total[2]:\n",
    "    print(v, \"in list three\")\n",
    "else:\n",
    "    print(\"not in any list\")"
   ]
  },
  {
   "cell_type": "code",
   "execution_count": null,
   "metadata": {},
   "outputs": [],
   "source": []
  }
 ],
 "metadata": {
  "kernelspec": {
   "display_name": "Python 3",
   "language": "python",
   "name": "python3"
  },
  "language_info": {
   "codemirror_mode": {
    "name": "ipython",
    "version": 3
   },
   "file_extension": ".py",
   "mimetype": "text/x-python",
   "name": "python",
   "nbconvert_exporter": "python",
   "pygments_lexer": "ipython3",
   "version": "3.7.4"
  }
 },
 "nbformat": 4,
 "nbformat_minor": 2
}
