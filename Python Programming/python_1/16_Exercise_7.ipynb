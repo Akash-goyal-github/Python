{
 "cells": [
  {
   "cell_type": "code",
   "execution_count": 2,
   "metadata": {},
   "outputs": [],
   "source": [
    "#Exercise 7.1\n",
    "\n",
    "d = open(\"rain.txt\", \"w\")\n",
    "d.write(\"Hi\")\n",
    "d.write(\"\\nfood is hot\"*2)\n",
    "d.write(\"\\nsunny day\"*3)\n",
    "d.close()\n",
    "e = open(\"cloud.txt\", \"w\")\n",
    "e.write(\"Hi\")\n",
    "e.write(\"\\nfood is cold\"*2)\n",
    "e.write(\"\\nsunny day\"*3)\n",
    "e.close()"
   ]
  },
  {
   "cell_type": "code",
   "execution_count": 6,
   "metadata": {},
   "outputs": [
    {
     "name": "stdout",
     "output_type": "stream",
     "text": [
      "True\n",
      "False\n",
      "False\n",
      "True\n",
      "True\n",
      "True\n"
     ]
    }
   ],
   "source": [
    "a = open(\"rain.txt\", \"r\")\n",
    "b = open(\"cloud.txt\", \"r\")\n",
    "day = a.readlines()\n",
    "night = b.readlines()\n",
    "for i in range(6):\n",
    "    if day[i] == night[i]:\n",
    "        print(True)\n",
    "    else:\n",
    "        print(False)\n",
    "a.close()\n",
    "b.close()"
   ]
  },
  {
   "cell_type": "code",
   "execution_count": 7,
   "metadata": {},
   "outputs": [
    {
     "name": "stdout",
     "output_type": "stream",
     "text": [
      "True\n",
      "False\n"
     ]
    }
   ],
   "source": [
    "a, b = open(\"rain.txt\", \"r\"), open(\"cloud.txt\", \"r\")\n",
    "day, night = a.readlines(), b.readlines()\n",
    "for d in [True if day[i] == night[i] else\\\n",
    "          False for i in range(2)]:\n",
    "    print(d)\n",
    "a.close() ;b.close()"
   ]
  },
  {
   "cell_type": "code",
   "execution_count": 9,
   "metadata": {},
   "outputs": [
    {
     "name": "stdout",
     "output_type": "stream",
     "text": [
      "add text: win\n",
      "add text: draw\n",
      "add text: lose\n"
     ]
    }
   ],
   "source": [
    "#Exercise 7.2\n",
    "\n",
    "files = [\"morning\", \"evening\", \"night\"]\n",
    "for i in range(len(files)):\n",
    "    d = open(files[i]+ \".txt\", \"w\")\n",
    "    d.write(\"game\")\n",
    "    d.close()\n",
    "    num = input(\"add text: \")\n",
    "    d = open(files[i]+\".txt\", \"a\")\n",
    "    d.write(\"\\n\" +num)\n",
    "    d.close()"
   ]
  },
  {
   "cell_type": "code",
   "execution_count": 10,
   "metadata": {},
   "outputs": [
    {
     "data": {
      "text/plain": [
       "['computer',\n",
       " 'python',\n",
       " 'udemy',\n",
       " 'intelligence',\n",
       " 'universal',\n",
       " 'jupyter',\n",
       " 'java',\n",
       " 'javascript']"
      ]
     },
     "execution_count": 10,
     "metadata": {},
     "output_type": "execute_result"
    }
   ],
   "source": [
    "#Exercise 7.3\n",
    "\n",
    "w = open(\"count.txt\", \"w\")\n",
    "w.write(\"\"\"computer\\n\n",
    "python\\n\n",
    "udemy\\n\n",
    "intelligence\\n\n",
    "universal\\n\n",
    "jupyter\\n\n",
    "java\\n\n",
    "javascript\\n\"\"\")\n",
    "w.close()\n",
    "with open(\"count.txt\", \"r+\") as comp:\n",
    "    g = \"\".join(comp.readlines())\n",
    "g.replace(\"\\n\\n\", \"\")\n",
    "g2 = g.replace(\"\\n\\n\", \" \").split()\n",
    "g2"
   ]
  },
  {
   "cell_type": "code",
   "execution_count": 11,
   "metadata": {},
   "outputs": [
    {
     "data": {
      "text/plain": [
       "['python', 'udemy', 'jupyter']"
      ]
     },
     "execution_count": 11,
     "metadata": {},
     "output_type": "execute_result"
    }
   ],
   "source": [
    "[i for i in g2 if len(i) >= 5 and len(i) <= 7]"
   ]
  },
  {
   "cell_type": "code",
   "execution_count": 12,
   "metadata": {},
   "outputs": [
    {
     "data": {
      "text/plain": [
       "['python', 'udemy', 'jupyter']"
      ]
     },
     "execution_count": 12,
     "metadata": {},
     "output_type": "execute_result"
    }
   ],
   "source": [
    "with open(\"count.txt\", \"r+\") as comp:\n",
    "    g = \"\".join(comp.readlines()).replace(\"\\n\", \" \").split()\n",
    "[i for i in g if len(i) >= 5 and len(i) <= 7]"
   ]
  },
  {
   "cell_type": "code",
   "execution_count": null,
   "metadata": {},
   "outputs": [],
   "source": []
  }
 ],
 "metadata": {
  "kernelspec": {
   "display_name": "Python 3",
   "language": "python",
   "name": "python3"
  },
  "language_info": {
   "codemirror_mode": {
    "name": "ipython",
    "version": 3
   },
   "file_extension": ".py",
   "mimetype": "text/x-python",
   "name": "python",
   "nbconvert_exporter": "python",
   "pygments_lexer": "ipython3",
   "version": "3.7.4"
  }
 },
 "nbformat": 4,
 "nbformat_minor": 2
}
