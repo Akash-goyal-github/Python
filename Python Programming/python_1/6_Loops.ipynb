{
 "cells": [
  {
   "cell_type": "markdown",
   "metadata": {},
   "source": [
    "#### For Loops"
   ]
  },
  {
   "cell_type": "code",
   "execution_count": 1,
   "metadata": {},
   "outputs": [
    {
     "name": "stdout",
     "output_type": "stream",
     "text": [
      "0\n",
      "1\n",
      "2\n",
      "3\n",
      "4\n",
      "5\n",
      "6\n",
      "7\n",
      "8\n",
      "9\n"
     ]
    }
   ],
   "source": [
    "for i in range(10):\n",
    "    print(i)"
   ]
  },
  {
   "cell_type": "code",
   "execution_count": 3,
   "metadata": {},
   "outputs": [
    {
     "name": "stdout",
     "output_type": "stream",
     "text": [
      "0\n",
      "2\n",
      "4\n",
      "6\n",
      "8\n",
      "10\n"
     ]
    }
   ],
   "source": [
    "for i in range(0,11,2):\n",
    "    print(i)"
   ]
  },
  {
   "cell_type": "code",
   "execution_count": 4,
   "metadata": {},
   "outputs": [
    {
     "name": "stdout",
     "output_type": "stream",
     "text": [
      "tiger\n",
      "lion\n",
      "jaguar\n",
      "leopard\n"
     ]
    }
   ],
   "source": [
    "cats = [\"tiger\", \"lion\", \"jaguar\", \"leopard\"]\n",
    "for cat in cats:\n",
    "    print(cat)"
   ]
  },
  {
   "cell_type": "code",
   "execution_count": 5,
   "metadata": {},
   "outputs": [
    {
     "name": "stdout",
     "output_type": "stream",
     "text": [
      "0 30 0\n",
      "1 31 1\n",
      "2 32 4\n",
      "3 33 9\n"
     ]
    }
   ],
   "source": [
    "for num in range(4):\n",
    "    print(num, num + 30, num*num)"
   ]
  },
  {
   "cell_type": "code",
   "execution_count": 6,
   "metadata": {},
   "outputs": [
    {
     "name": "stdout",
     "output_type": "stream",
     "text": [
      "[10, 20, 30]\n",
      "[3.5, 4.5, 5.5]\n",
      "['sword', 'hammer', 'shield']\n"
     ]
    }
   ],
   "source": [
    "nest1 = [[10, 20, 30], [3.5, 4.5, 5.5],[\"sword\", \"hammer\", \"shield\"]]\n",
    "for i in range(3):\n",
    "    print(nest1[i])"
   ]
  },
  {
   "cell_type": "code",
   "execution_count": 8,
   "metadata": {},
   "outputs": [
    {
     "data": {
      "text/plain": [
       "'Shield: Power Level = 35.5'"
      ]
     },
     "execution_count": 8,
     "metadata": {},
     "output_type": "execute_result"
    }
   ],
   "source": [
    "weapons = []\n",
    "for i in range(3):\n",
    "    s = nest1[2][i].capitalize() + \": Power Level = \" + str(nest1[0][i] + nest1[1][i])\n",
    "    weapons.append(s)\n",
    "weapons[2]"
   ]
  },
  {
   "cell_type": "code",
   "execution_count": 9,
   "metadata": {},
   "outputs": [
    {
     "name": "stdout",
     "output_type": "stream",
     "text": [
      "1 * 1 = 1\n",
      "2 * 2 = 4\n",
      "3 * 3 = 9\n",
      "4 * 4 = 16\n",
      "5 * 5 = 25\n",
      "6 * 6 = 36\n",
      "7 * 7 = 49\n"
     ]
    }
   ],
   "source": [
    "for i in range(1, 8):\n",
    "    print(\"{} * {} = {}\".format(i, i, (i*i)))"
   ]
  },
  {
   "cell_type": "code",
   "execution_count": 10,
   "metadata": {},
   "outputs": [
    {
     "name": "stdout",
     "output_type": "stream",
     "text": [
      "1.000000 * 1.000000 = 1.000000\n",
      "2.000000 * 2.000000 = 4.000000\n",
      "3.000000 * 3.000000 = 9.000000\n",
      "4.000000 * 4.000000 = 16.000000\n",
      "5.000000 * 5.000000 = 25.000000\n",
      "6.000000 * 6.000000 = 36.000000\n",
      "7.000000 * 7.000000 = 49.000000\n"
     ]
    }
   ],
   "source": [
    "for k in range(1, 8):\n",
    "    print(\"%f * %f = %f\" % (k, k, (k*k)))"
   ]
  },
  {
   "cell_type": "code",
   "execution_count": 11,
   "metadata": {},
   "outputs": [
    {
     "name": "stdout",
     "output_type": "stream",
     "text": [
      "10 20 30\n",
      "a b c\n",
      "200 400 800\n",
      "10 20 30\n",
      "a b c\n",
      "200 400 800\n",
      "10 20 30\n",
      "a b c\n",
      "200 400 800\n"
     ]
    }
   ],
   "source": [
    "tup1 = ((10, 20, 30), (\"a\", \"b\", \"c\"), (200, 400, 800))\n",
    "# TUPLE UNPACKING!\n",
    "for i in range(3):\n",
    "    for x, y, z in tup1:\n",
    "        print(x, y, z)"
   ]
  },
  {
   "cell_type": "code",
   "execution_count": 12,
   "metadata": {},
   "outputs": [
    {
     "data": {
      "text/plain": [
       "[10, 20, 30, 40]"
      ]
     },
     "execution_count": 12,
     "metadata": {},
     "output_type": "execute_result"
    }
   ],
   "source": [
    "cakes = [\"chocolate\", \"lemon\", \"carrot\", \"vanilla\"]\n",
    "d1 = {\"k1\": tuple(cakes), \"k2\": [10, 20, 30, 40]}\n",
    "d1[\"k2\"]"
   ]
  },
  {
   "cell_type": "code",
   "execution_count": 13,
   "metadata": {},
   "outputs": [
    {
     "name": "stdout",
     "output_type": "stream",
     "text": [
      "k1 : chocolate\n",
      "k1 : lemon\n",
      "k1 : carrot\n",
      "k1 : vanilla\n",
      "k2 : 10\n",
      "k2 : 20\n",
      "k2 : 30\n",
      "k2 : 40\n"
     ]
    }
   ],
   "source": [
    "for x in d1:\n",
    "    for i in range(4):\n",
    "        print(x, \":\", d1[x][i])"
   ]
  },
  {
   "cell_type": "code",
   "execution_count": 14,
   "metadata": {},
   "outputs": [
    {
     "name": "stdout",
     "output_type": "stream",
     "text": [
      "Tiger \n",
      " Level: \n",
      " SERIES\n",
      "Lion \n",
      " Level: \n",
      " CRITICAL\n",
      "Jaguar \n",
      " Level: \n",
      " VERY CRITICAL\n",
      "Leopard \n",
      " Level: \n",
      " STABLE\n"
     ]
    }
   ],
   "source": [
    "cats\n",
    "endangered = [\"series\", \"critical\",\"very critical\", \"stable\"]\n",
    "for c in range(4):\n",
    "    print(cats[c].capitalize(), \"\\n Level: \\n\", endangered[c].upper())"
   ]
  },
  {
   "cell_type": "markdown",
   "metadata": {},
   "source": [
    "#### While Loops"
   ]
  },
  {
   "cell_type": "code",
   "execution_count": 15,
   "metadata": {},
   "outputs": [
    {
     "name": "stdout",
     "output_type": "stream",
     "text": [
      "50\n",
      "60\n",
      "70\n",
      "80\n",
      "90\n",
      "100\n"
     ]
    }
   ],
   "source": [
    "x = 50\n",
    "while x <= 100:\n",
    "    print(x)\n",
    "    x += 10"
   ]
  },
  {
   "cell_type": "code",
   "execution_count": 16,
   "metadata": {},
   "outputs": [
    {
     "name": "stdout",
     "output_type": "stream",
     "text": [
      "The multiplication is:  1\n",
      "The multiplication is:  2\n",
      "The multiplication is:  4\n",
      "The multiplication is:  8\n",
      "The multiplication is:  16\n"
     ]
    }
   ],
   "source": [
    "num = 1\n",
    "while num < 20:\n",
    "    print(\"The multiplication is: \", num)\n",
    "    num *= 2"
   ]
  },
  {
   "cell_type": "code",
   "execution_count": 17,
   "metadata": {},
   "outputs": [
    {
     "name": "stdout",
     "output_type": "stream",
     "text": [
      "The division is:  1000 2\n",
      "The division is:  333 2\n",
      "The division is:  111 2\n",
      "The division is:  37 2\n",
      "The division is:  12 2\n"
     ]
    }
   ],
   "source": [
    "div = 1000\n",
    "while div > 10:\n",
    "    print(\"The division is: \", round(div), 2)\n",
    "    div /= 3"
   ]
  },
  {
   "cell_type": "code",
   "execution_count": 18,
   "metadata": {},
   "outputs": [
    {
     "name": "stdout",
     "output_type": "stream",
     "text": [
      "The floor is:  200\n",
      "The floor is:  100\n",
      "The floor is:  50\n",
      "The floor is:  25\n",
      "The floor is:  12\n"
     ]
    }
   ],
   "source": [
    "floor = 200\n",
    "while floor > 10:\n",
    "    print(\"The floor is: \", floor)\n",
    "    floor //= 2"
   ]
  },
  {
   "cell_type": "code",
   "execution_count": 19,
   "metadata": {},
   "outputs": [
    {
     "name": "stdout",
     "output_type": "stream",
     "text": [
      "The floor is:  200\n",
      "The floor is:  100.0\n",
      "The floor is:  50.0\n",
      "The floor is:  25.0\n",
      "The floor is:  12.5\n"
     ]
    }
   ],
   "source": [
    "floor = 200\n",
    "while floor > 10:\n",
    "    print(\"The floor is: \", floor)\n",
    "    floor /= 2"
   ]
  },
  {
   "cell_type": "code",
   "execution_count": 20,
   "metadata": {},
   "outputs": [
    {
     "name": "stdout",
     "output_type": "stream",
     "text": [
      "Count down to lift off in  10 seconds!\n",
      "Count down to lift off in  9 seconds!\n",
      "Count down to lift off in  8 seconds!\n",
      "Count down to lift off in  7 seconds!\n",
      "Count down to lift off in  6 seconds!\n",
      "Count down to lift off in  5 seconds!\n",
      "Count down to lift off in  4 seconds!\n",
      "Count down to lift off in  3 seconds!\n",
      "Count down to lift off in  2 seconds!\n",
      "Count down to lift off in  1 seconds!\n",
      "Blast off!\n"
     ]
    }
   ],
   "source": [
    "sub = 10\n",
    "while sub > 0:\n",
    "    print(\"Count down to lift off in \", str(sub) + \" seconds!\")\n",
    "    sub -= 1\n",
    "    if sub == 0:\n",
    "        print(\"Blast off!\")"
   ]
  },
  {
   "cell_type": "code",
   "execution_count": 23,
   "metadata": {},
   "outputs": [
    {
     "name": "stdout",
     "output_type": "stream",
     "text": [
      "1 / 1.000000 = 1\n",
      "2 / 1.000000 = 2\n",
      "3 / 1.000000 = 3\n",
      "4 / 1.000000 = 4\n",
      "5 / 1.000000 = 5\n",
      "6 / 1.000000 = 6\n",
      "7 / 1.000000 = 7\n",
      "8 / 1.000000 = 8\n",
      "9 / 1.000000 = 9\n",
      "10 / 1.000000 = 10\n",
      "11 / 1.000000 = 11\n",
      "12 / 1.000000 = 12\n",
      "13 / 1.000000 = 13\n",
      "14 / 1.000000 = 14\n"
     ]
    }
   ],
   "source": [
    "p = 1 ; o = 1\n",
    "while p < 15 and o < 15:\n",
    "    print(\"%i / %f = %i\" % (p, o, (p/o)))\n",
    "    p+=1;"
   ]
  },
  {
   "cell_type": "code",
   "execution_count": 27,
   "metadata": {},
   "outputs": [
    {
     "name": "stdout",
     "output_type": "stream",
     "text": [
      "5 + 10 + 5 = 5\n",
      "5 + 11 + 5 = 5\n",
      "5 + 12 + 5 = 5\n",
      "5 + 13 + 5 = 5\n",
      "5 + 14 + 5 = 5\n",
      "5 + 15 + 5 = 5\n",
      "5 + 16 + 5 = 5\n"
     ]
    }
   ],
   "source": [
    "num = 5 ; cake = 10\n",
    "while num < 12:\n",
    "    while cake < 17:\n",
    "        print(\"{0} + {1} + {0} = {2}\".format(num, cake, num, num+cake))\n",
    "        cake += 1 ; \n",
    "    num += 1"
   ]
  },
  {
   "cell_type": "code",
   "execution_count": 28,
   "metadata": {},
   "outputs": [
    {
     "name": "stdout",
     "output_type": "stream",
     "text": [
      "Java\n",
      "R\n",
      "C#\n",
      "Julia\n",
      "CSS\n",
      "Go\n"
     ]
    }
   ],
   "source": [
    "lang = [\"Python\", \"Java\", \"JavaScript\", \"R\", \"VBA\", \"C#\", \"C++\", \"Julia\",\"HTML\", \"CSS\", \"C\", \"Go\"]\n",
    "x = 1\n",
    "while x < len(lang):\n",
    "    print(lang[x]) ; x+= 2"
   ]
  },
  {
   "cell_type": "code",
   "execution_count": 38,
   "metadata": {},
   "outputs": [
    {
     "name": "stdout",
     "output_type": "stream",
     "text": [
      "1 + 1 = 2\n",
      "2 + 2 = 4\n",
      "3 + 3 = 6\n",
      "4 + 4 = 8\n"
     ]
    }
   ],
   "source": [
    "a = 1 ; b = 1\n",
    "while a < 5:\n",
    "    while b < 5:\n",
    "        print(\"{} + {} = {}\".format(a, a, b+a))\n",
    "        a += 1 ; b += 1"
   ]
  },
  {
   "cell_type": "code",
   "execution_count": 42,
   "metadata": {},
   "outputs": [
    {
     "name": "stdout",
     "output_type": "stream",
     "text": [
      "1 + 1 = 2\n",
      "1 + 2 = 3\n",
      "1 + 3 = 4\n",
      "1 + 4 = 5\n",
      "2 + 1 = 3\n",
      "2 + 2 = 4\n",
      "2 + 3 = 5\n",
      "2 + 4 = 6\n",
      "3 + 1 = 4\n",
      "3 + 2 = 5\n",
      "3 + 3 = 6\n",
      "3 + 4 = 7\n",
      "4 + 1 = 5\n",
      "4 + 2 = 6\n",
      "4 + 3 = 7\n",
      "4 + 4 = 8\n"
     ]
    }
   ],
   "source": [
    "for j in range(1, 5):\n",
    "    for k in range(1, 5):\n",
    "        print(\"{} + {} = {}\".format(j, k, j+k))"
   ]
  },
  {
   "cell_type": "code",
   "execution_count": 45,
   "metadata": {},
   "outputs": [],
   "source": [
    "num = [10, 5, 20, 3, 100, 4, 7]\n",
    "rad = [4, 1, 40, 3, 120, 5, 7]"
   ]
  },
  {
   "cell_type": "code",
   "execution_count": 47,
   "metadata": {},
   "outputs": [
    {
     "name": "stdout",
     "output_type": "stream",
     "text": [
      "Greater\n",
      "Greater\n",
      "Less\n",
      "EQUAL\n",
      "Less\n",
      "Less\n",
      "EQUAL\n"
     ]
    }
   ],
   "source": [
    "x=0;\n",
    "while x < len(num):\n",
    "    if num[x] == rad[x]:\n",
    "        print(\"EQUAL\")\n",
    "    elif num[x] > rad[x]:\n",
    "        print(\"Greater\")\n",
    "    else:\n",
    "        print(\"Less\")\n",
    "    x += 1"
   ]
  },
  {
   "cell_type": "code",
   "execution_count": 48,
   "metadata": {},
   "outputs": [
    {
     "name": "stdout",
     "output_type": "stream",
     "text": [
      "11\n",
      "12\n",
      "13\n",
      "14\n",
      "15\n",
      "16\n",
      "17\n",
      "18\n",
      "19\n",
      "20\n"
     ]
    }
   ],
   "source": [
    "for num in range(40):\n",
    "    if num > 10 and num <= 20:\n",
    "        if num == 16 and num == 19:\n",
    "            pass\n",
    "        print(num)"
   ]
  },
  {
   "cell_type": "code",
   "execution_count": 49,
   "metadata": {},
   "outputs": [
    {
     "name": "stdout",
     "output_type": "stream",
     "text": [
      "11\n",
      "12\n",
      "13\n",
      "14\n",
      "15\n",
      "17\n",
      "18\n",
      "20\n"
     ]
    }
   ],
   "source": [
    "for num in range(40):\n",
    "    if num > 10 and num <= 20:\n",
    "        if num == 16 or num == 19:\n",
    "            continue\n",
    "        print(num)"
   ]
  },
  {
   "cell_type": "code",
   "execution_count": 50,
   "metadata": {},
   "outputs": [
    {
     "name": "stdout",
     "output_type": "stream",
     "text": [
      "11\n",
      "12\n",
      "13\n",
      "14\n",
      "15\n"
     ]
    }
   ],
   "source": [
    "for num in range(40):\n",
    "    if num > 10 and num <= 20:\n",
    "        if num == 16 or num == 19:\n",
    "            break\n",
    "        print(num)"
   ]
  },
  {
   "cell_type": "code",
   "execution_count": 51,
   "metadata": {},
   "outputs": [
    {
     "name": "stdout",
     "output_type": "stream",
     "text": [
      "c\n",
      "o\n",
      "m\n",
      "p\n",
      "u\n",
      "t\n",
      "A\n",
      "t\n",
      "i\n",
      "o\n",
      "n\n"
     ]
    }
   ],
   "source": [
    "for word in \"computAtion\":\n",
    "    if word == \"A\" or word == \"p\":\n",
    "        pass\n",
    "    print(word)"
   ]
  },
  {
   "cell_type": "code",
   "execution_count": 52,
   "metadata": {},
   "outputs": [
    {
     "name": "stdout",
     "output_type": "stream",
     "text": [
      "c\n",
      "o\n",
      "m\n"
     ]
    }
   ],
   "source": [
    "for word in \"computAtion\":\n",
    "    if word == \"A\" or word == \"p\":\n",
    "        break;\n",
    "    print(word)"
   ]
  },
  {
   "cell_type": "code",
   "execution_count": 53,
   "metadata": {},
   "outputs": [
    {
     "name": "stdout",
     "output_type": "stream",
     "text": [
      "c\n",
      "o\n",
      "m\n",
      "u\n",
      "t\n",
      "t\n",
      "i\n",
      "o\n",
      "n\n"
     ]
    }
   ],
   "source": [
    "for word in \"computAtion\":\n",
    "    if word == \"A\" or word == \"p\":\n",
    "        continue\n",
    "    print(word)"
   ]
  },
  {
   "cell_type": "markdown",
   "metadata": {},
   "source": [
    "#### DIFFERENCE B/W PASS AND CONTINUE"
   ]
  },
  {
   "cell_type": "markdown",
   "metadata": {},
   "source": [
    "#### Yes, there is a difference. continue forces the loop to start at the next iteration while pass means \"there is no code to execute here\" and will continue through the remainder or the loop body. continue will jump back to the top of the loop. pass will continue processing."
   ]
  },
  {
   "cell_type": "code",
   "execution_count": null,
   "metadata": {},
   "outputs": [],
   "source": []
  }
 ],
 "metadata": {
  "kernelspec": {
   "display_name": "Python 3",
   "language": "python",
   "name": "python3"
  },
  "language_info": {
   "codemirror_mode": {
    "name": "ipython",
    "version": 3
   },
   "file_extension": ".py",
   "mimetype": "text/x-python",
   "name": "python",
   "nbconvert_exporter": "python",
   "pygments_lexer": "ipython3",
   "version": "3.7.4"
  }
 },
 "nbformat": 4,
 "nbformat_minor": 2
}
