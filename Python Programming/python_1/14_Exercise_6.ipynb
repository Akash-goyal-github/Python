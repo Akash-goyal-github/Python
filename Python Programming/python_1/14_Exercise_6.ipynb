{
 "cells": [
  {
   "cell_type": "code",
   "execution_count": 2,
   "metadata": {},
   "outputs": [],
   "source": [
    "#Exercise 6.1\n",
    "\n",
    "def mul(num1= 5, num2= 20, num3= 100):\n",
    "    return num1 + num2 + num3"
   ]
  },
  {
   "cell_type": "code",
   "execution_count": 4,
   "metadata": {},
   "outputs": [
    {
     "data": {
      "text/plain": [
       "125"
      ]
     },
     "execution_count": 4,
     "metadata": {},
     "output_type": "execute_result"
    }
   ],
   "source": [
    "p= lambda num1,num2,num3:num1+num2+num3\n",
    "p(5,20,100)"
   ]
  },
  {
   "cell_type": "code",
   "execution_count": 8,
   "metadata": {},
   "outputs": [
    {
     "data": {
      "text/plain": [
       "'not in bowl'"
      ]
     },
     "execution_count": 8,
     "metadata": {},
     "output_type": "execute_result"
    }
   ],
   "source": [
    "#Exercise 6.2\n",
    "\n",
    "bowl = [\"cherries\", \"orange\", \"apple\", \"melon\", \"figs\"]\n",
    "salad = lambda x : \"fruit\" if x in bowl else \"not in bowl\"\n",
    "salad(\"mango\")"
   ]
  },
  {
   "cell_type": "code",
   "execution_count": 13,
   "metadata": {},
   "outputs": [
    {
     "data": {
      "text/plain": [
       "'outside'"
      ]
     },
     "execution_count": 13,
     "metadata": {},
     "output_type": "execute_result"
    }
   ],
   "source": [
    "#Exercise 6.3\n",
    "\n",
    "inside =lambda num: num**2 if num in range(10) else \"outside\"\n",
    "inside(20)"
   ]
  },
  {
   "cell_type": "code",
   "execution_count": 14,
   "metadata": {},
   "outputs": [
    {
     "name": "stdout",
     "output_type": "stream",
     "text": [
      "Enter an integer: 1\n",
      "Try again, please\n",
      "END CODE\n",
      "Enter an integer: 10\n",
      "Try again, please\n",
      "END CODE\n",
      "Enter an integer: 12.234\n",
      "Lambda is 36\n",
      "Input value is 12\n",
      "END CODE\n"
     ]
    }
   ],
   "source": [
    "#Exercise 6.4\n",
    "\n",
    "def error():\n",
    "    while True:\n",
    "        try:\n",
    "            val = int(eval(input(\"Enter an integer: \")))\n",
    "            g = lambda x:x*3 if x > 10 else \"too low\"\n",
    "            if g(val) > 20:\n",
    "                print(\"Lambda is\", g(val))\n",
    "                print(\"Input value is\", val)\n",
    "                break\n",
    "            else:\n",
    "                print(\"No output\")\n",
    "        except:\n",
    "            print(\"Try again, please\")\n",
    "            continue\n",
    "        finally:\n",
    "            print(\"END CODE\")\n",
    "error()"
   ]
  },
  {
   "cell_type": "code",
   "execution_count": 18,
   "metadata": {},
   "outputs": [
    {
     "name": "stdout",
     "output_type": "stream",
     "text": [
      "100 81\n",
      "101 82\n",
      "102 83\n",
      "103 84\n",
      "104 85\n",
      "105 86\n",
      "106 87\n",
      "107 88\n",
      "108 89\n",
      "109 90\n"
     ]
    }
   ],
   "source": [
    "#Exercise 6.5\n",
    "\n",
    "g = lambda x: x**2 if x > 5 in range(10) else 0\n",
    "for i in range(10):\n",
    "    print(i+100, i + g(9))"
   ]
  },
  {
   "cell_type": "code",
   "execution_count": 20,
   "metadata": {},
   "outputs": [],
   "source": [
    "#Exercise 6.6\n",
    "\n",
    "critics = (\"Mustafa\", \"Michael\", \"Callum\", \"George\")\n",
    "films = [\"Akira\", \"Blade Runner 2049\", \"Mr. Robot\", \"The TenCommandments\"]"
   ]
  },
  {
   "cell_type": "code",
   "execution_count": 24,
   "metadata": {},
   "outputs": [
    {
     "data": {
      "text/plain": [
       "[\"Mustafa's favourite film is Akira\",\n",
       " \"Michael's favourite film is Blade Runner 2049\",\n",
       " \"Callum's favourite film is Mr. Robot\",\n",
       " \"George's favourite film is The TenCommandments\"]"
      ]
     },
     "execution_count": 24,
     "metadata": {},
     "output_type": "execute_result"
    }
   ],
   "source": [
    "[critics[i] + \"'s favourite film is \" + films[i] for i in range(4)]"
   ]
  },
  {
   "cell_type": "code",
   "execution_count": null,
   "metadata": {},
   "outputs": [],
   "source": []
  }
 ],
 "metadata": {
  "kernelspec": {
   "display_name": "Python 3",
   "language": "python",
   "name": "python3"
  },
  "language_info": {
   "codemirror_mode": {
    "name": "ipython",
    "version": 3
   },
   "file_extension": ".py",
   "mimetype": "text/x-python",
   "name": "python",
   "nbconvert_exporter": "python",
   "pygments_lexer": "ipython3",
   "version": "3.7.4"
  }
 },
 "nbformat": 4,
 "nbformat_minor": 2
}
