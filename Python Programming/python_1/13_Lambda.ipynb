{
 "cells": [
  {
   "cell_type": "code",
   "execution_count": 1,
   "metadata": {},
   "outputs": [
    {
     "data": {
      "text/plain": [
       "30"
      ]
     },
     "execution_count": 1,
     "metadata": {},
     "output_type": "execute_result"
    }
   ],
   "source": [
    "def add(arg1, arg2):\n",
    "    return arg1 + arg2\n",
    "add(10, 20)"
   ]
  },
  {
   "cell_type": "code",
   "execution_count": 4,
   "metadata": {},
   "outputs": [
    {
     "data": {
      "text/plain": [
       "170"
      ]
     },
     "execution_count": 4,
     "metadata": {},
     "output_type": "execute_result"
    }
   ],
   "source": [
    "g = lambda x, y , z: x + y + z\n",
    "g(10,70,90)"
   ]
  },
  {
   "cell_type": "code",
   "execution_count": 5,
   "metadata": {},
   "outputs": [
    {
     "data": {
      "text/plain": [
       "True"
      ]
     },
     "execution_count": 5,
     "metadata": {},
     "output_type": "execute_result"
    }
   ],
   "source": [
    "def check(num):\n",
    "    return num % 2 == 0 or num > 5\n",
    "check(9)"
   ]
  },
  {
   "cell_type": "code",
   "execution_count": 7,
   "metadata": {},
   "outputs": [
    {
     "data": {
      "text/plain": [
       "True"
      ]
     },
     "execution_count": 7,
     "metadata": {},
     "output_type": "execute_result"
    }
   ],
   "source": [
    "c1 = lambda num2 : num2 > 10 and num2 < 30\n",
    "c1(20)"
   ]
  },
  {
   "cell_type": "code",
   "execution_count": 9,
   "metadata": {},
   "outputs": [],
   "source": [
    "import random as rd\n",
    "w = lambda s, num= rd.randint(0,30): \"inside\" if num in range(rd.randint(0,s)) else \"outside\""
   ]
  },
  {
   "cell_type": "code",
   "execution_count": 10,
   "metadata": {},
   "outputs": [
    {
     "data": {
      "text/plain": [
       "'outside'"
      ]
     },
     "execution_count": 10,
     "metadata": {},
     "output_type": "execute_result"
    }
   ],
   "source": [
    "w(9)"
   ]
  },
  {
   "cell_type": "code",
   "execution_count": 11,
   "metadata": {},
   "outputs": [
    {
     "data": {
      "text/plain": [
       "11"
      ]
     },
     "execution_count": 11,
     "metadata": {},
     "output_type": "execute_result"
    }
   ],
   "source": [
    "def compare(a, b):\n",
    "    if a > 10:\n",
    "        return a\n",
    "    else:\n",
    "        return b\n",
    "compare(11, 2)"
   ]
  },
  {
   "cell_type": "code",
   "execution_count": 12,
   "metadata": {},
   "outputs": [],
   "source": [
    "a = 20; b = 5\n",
    "con = lambda: a if a > 10 else b"
   ]
  },
  {
   "cell_type": "code",
   "execution_count": 13,
   "metadata": {},
   "outputs": [
    {
     "data": {
      "text/plain": [
       "5"
      ]
     },
     "execution_count": 13,
     "metadata": {},
     "output_type": "execute_result"
    }
   ],
   "source": [
    "a = 3\n",
    "con()"
   ]
  },
  {
   "cell_type": "code",
   "execution_count": 14,
   "metadata": {},
   "outputs": [
    {
     "data": {
      "text/plain": [
       "'big'"
      ]
     },
     "execution_count": 14,
     "metadata": {},
     "output_type": "execute_result"
    }
   ],
   "source": [
    "def size(x):\n",
    "    if x > 100:\n",
    "        return \"big\"\n",
    "    else:\n",
    "        return \"small\"\n",
    "size(800)"
   ]
  },
  {
   "cell_type": "code",
   "execution_count": 17,
   "metadata": {},
   "outputs": [],
   "source": [
    "big= lambda x: \"big\" if x>100 else \"small\""
   ]
  },
  {
   "cell_type": "code",
   "execution_count": 18,
   "metadata": {},
   "outputs": [
    {
     "data": {
      "text/plain": [
       "'small'"
      ]
     },
     "execution_count": 18,
     "metadata": {},
     "output_type": "execute_result"
    }
   ],
   "source": [
    "big(9)"
   ]
  },
  {
   "cell_type": "code",
   "execution_count": 20,
   "metadata": {},
   "outputs": [
    {
     "data": {
      "text/plain": [
       "[0, 1, 4, 9, 16, 25, 36, 49, 64, 81]"
      ]
     },
     "execution_count": 20,
     "metadata": {},
     "output_type": "execute_result"
    }
   ],
   "source": [
    "f = lambda x:x *x\n",
    "f(10)\n",
    "[f(x) for x in range(10)]"
   ]
  },
  {
   "cell_type": "markdown",
   "metadata": {},
   "source": [
    "#### TRY, EXCEPT AND FINALLY!"
   ]
  },
  {
   "cell_type": "code",
   "execution_count": 21,
   "metadata": {},
   "outputs": [
    {
     "name": "stdout",
     "output_type": "stream",
     "text": [
      "100\n",
      "END CODE\n"
     ]
    }
   ],
   "source": [
    "try:\n",
    "    print(10 + 90)\n",
    "except:\n",
    "    for i in range(3):\n",
    "        print(i)\n",
    "finally:\n",
    "    print(\"END CODE\")"
   ]
  },
  {
   "cell_type": "code",
   "execution_count": 22,
   "metadata": {},
   "outputs": [
    {
     "name": "stdout",
     "output_type": "stream",
     "text": [
      "Type Error Found!\n",
      "STRING: 10 hello\n",
      "END CODE!\n"
     ]
    }
   ],
   "source": [
    "def error(var):\n",
    "    try:\n",
    "        return 10 + var\n",
    "    except:\n",
    "        print(\"Type Error Found!\")\n",
    "        print(\"STRING: \" + str(10) + \" \" + var)\n",
    "    finally:\n",
    "        print(\"END CODE!\")\n",
    "error(\"hello\")"
   ]
  },
  {
   "cell_type": "code",
   "execution_count": 25,
   "metadata": {},
   "outputs": [
    {
     "name": "stdout",
     "output_type": "stream",
     "text": [
      "can't be divided or divide by a string\n",
      "executing finally clause\n"
     ]
    }
   ],
   "source": [
    "def divide(x, y):\n",
    "    try:\n",
    "        res = x / y\n",
    "        return res\n",
    "    except ZeroDivisionError:\n",
    "        print(\"Division by zero is forbidden!\")\n",
    "    except TypeError:\n",
    "        print(\"can't be divided or divide by a string\")\n",
    "    finally:\n",
    "        print(\"executing finally clause\")\n",
    "divide(\"10\", 0)"
   ]
  },
  {
   "cell_type": "code",
   "execution_count": 26,
   "metadata": {},
   "outputs": [
    {
     "name": "stdout",
     "output_type": "stream",
     "text": [
      "Enter a valid integer: 9\n"
     ]
    }
   ],
   "source": [
    "while True:\n",
    "    try:\n",
    "        x = (input(\"Enter a valid integer: \"))\n",
    "        break\n",
    "    except:\n",
    "        print(\"Invalid input!\")"
   ]
  },
  {
   "cell_type": "code",
   "execution_count": 29,
   "metadata": {},
   "outputs": [
    {
     "name": "stdout",
     "output_type": "stream",
     "text": [
      "Enter an integer: wer\n",
      "Try again, please!\n",
      "Enter an integer: efr\n",
      "Try again, please!\n",
      "Enter an integer: 3\n",
      "Not in numbers list\n"
     ]
    }
   ],
   "source": [
    "numbers = 10, 20, 30, 40\n",
    "chance = 0\n",
    "while chance < 3:\n",
    "    try:\n",
    "        num = input(\"Enter an integer: \")\n",
    "        if eval(num) in numbers:\n",
    "            print(num, \"is in numbers\")\n",
    "            break\n",
    "        elif num == \"quit\":\n",
    "            break\n",
    "        else:\n",
    "            print(\"Not in numbers list\")\n",
    "            chance = chance + 1\n",
    "    except:\n",
    "        print(\"Try again, please!\")\n",
    "        chance = chance + 1\n",
    "        continue\n",
    "# finally:\n",
    "# print(\"End code!\")"
   ]
  },
  {
   "cell_type": "code",
   "execution_count": null,
   "metadata": {},
   "outputs": [],
   "source": []
  }
 ],
 "metadata": {
  "kernelspec": {
   "display_name": "Python 3",
   "language": "python",
   "name": "python3"
  },
  "language_info": {
   "codemirror_mode": {
    "name": "ipython",
    "version": 3
   },
   "file_extension": ".py",
   "mimetype": "text/x-python",
   "name": "python",
   "nbconvert_exporter": "python",
   "pygments_lexer": "ipython3",
   "version": "3.7.4"
  }
 },
 "nbformat": 4,
 "nbformat_minor": 2
}
