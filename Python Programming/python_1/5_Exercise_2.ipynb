{
 "cells": [
  {
   "cell_type": "markdown",
   "metadata": {},
   "source": []
  },
  {
   "cell_type": "code",
   "execution_count": 11,
   "metadata": {},
   "outputs": [
    {
     "name": "stdout",
     "output_type": "stream",
     "text": [
      "Enter a number: 2\n",
      "found you!\n",
      "Enter a number or string: 2\n",
      "Can't find anything!\n"
     ]
    }
   ],
   "source": [
    "#Exercise 2.1\n",
    "\n",
    "d1 = {\"k1\": [1,2,3, (100, 300, 500)], \"k2\": [4,5,6, [\"phone\", \"computer\", \"robot\"]]}\n",
    "var = eval(input(\"Enter a number: \"))\n",
    "if (var in d1[\"k1\"]):\n",
    "    print(\"found you!\")\n",
    "    num = input(\"Enter a number or string: \")\n",
    "    if (num) in d1[\"k2\"][:3]:\n",
    "        print(\"Found another one!\")\n",
    "    elif num in d1[\"k2\"][3]:\n",
    "        print(\"Got a\", num)\n",
    "    else:\n",
    "        print(\"Can't find anything!\")\n",
    "elif var in d1[\"k1\"][3]:\n",
    "    print(\"can't hide!\")\n",
    "else:\n",
    "    print(\"Where are you?\")"
   ]
  },
  {
   "cell_type": "code",
   "execution_count": 15,
   "metadata": {},
   "outputs": [
    {
     "name": "stdout",
     "output_type": "stream",
     "text": [
      "Enter a number 0 to 2: 0\n",
      "Enter a number 0 to 2: 0\n",
      "My meal is hot and very spicy !\n"
     ]
    }
   ],
   "source": [
    "#Exercise 2.2\n",
    "\n",
    "choose_dish = input(\"Enter a number 0 to 2: \")\n",
    "pick_sauce = input(\"Enter a number 0 to 2: \")\n",
    "cooked_pasta = [\"hot\", \"cold\", \"over cooked\"]\n",
    "sauce = [\"spicy\", \"sweet\", \"savoury\"]\n",
    "\n",
    "if(eval(choose_dish)<=2 and eval(pick_sauce)<=2):\n",
    "    print(\"My meal is\", cooked_pasta[eval(choose_dish)], \"and very\", sauce[eval(pick_sauce)], \"!\")\n",
    "    "
   ]
  },
  {
   "cell_type": "code",
   "execution_count": 22,
   "metadata": {},
   "outputs": [
    {
     "name": "stdout",
     "output_type": "stream",
     "text": [
      "Enter a number 0 to 2: 0\n",
      "Enter a number 0 to 2: 1\n",
      "My meal is hot and very sweet !\n"
     ]
    }
   ],
   "source": [
    "choose = eval(input(\"Enter a number 0 to 2: \"))\n",
    "pick = eval(input(\"Enter a number 0 to 2: \"))\n",
    "\n",
    "if (choose >2 and pick >2)or (choose <=2 and pick >2)or (choose >2 and pick<=2):\n",
    "    None\n",
    "else:\n",
    "    meal = []\n",
    "    cooked_pasta = [\"hot\", \"cold\", \"over cooked\"][choose]\n",
    "    sauce = [\"spicy\", \"sweet\", \"savoury\"][pick]\n",
    "    print(\"My meal is\", cooked_pasta, \"and very\", sauce, \"!\")"
   ]
  },
  {
   "cell_type": "code",
   "execution_count": null,
   "metadata": {},
   "outputs": [],
   "source": []
  }
 ],
 "metadata": {
  "kernelspec": {
   "display_name": "Python 3",
   "language": "python",
   "name": "python3"
  },
  "language_info": {
   "codemirror_mode": {
    "name": "ipython",
    "version": 3
   },
   "file_extension": ".py",
   "mimetype": "text/x-python",
   "name": "python",
   "nbconvert_exporter": "python",
   "pygments_lexer": "ipython3",
   "version": "3.7.4"
  }
 },
 "nbformat": 4,
 "nbformat_minor": 2
}
