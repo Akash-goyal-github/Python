{
 "cells": [
  {
   "cell_type": "code",
   "execution_count": 2,
   "metadata": {},
   "outputs": [
    {
     "data": {
      "text/plain": [
       "[0, 50, 100, 150, 200, 250]"
      ]
     },
     "execution_count": 2,
     "metadata": {},
     "output_type": "execute_result"
    }
   ],
   "source": [
    "#Exercise 3.1\n",
    "\n",
    "numbers = list(range(0, 110, 10))\n",
    "numbers = [0, 10, 20, 30, 40, 50, 60, 70, 80, 90, 100]\n",
    "first = []\n",
    "for num in numbers:\n",
    "    s = num *2.5\n",
    "    if s % 2 == 0:\n",
    "        first.append(int(s))\n",
    "first"
   ]
  },
  {
   "cell_type": "code",
   "execution_count": 8,
   "metadata": {},
   "outputs": [
    {
     "data": {
      "text/plain": [
       "[0, 50, 100, 150, 200, 250]"
      ]
     },
     "execution_count": 8,
     "metadata": {},
     "output_type": "execute_result"
    }
   ],
   "source": [
    "x=0;\n",
    "first=[]\n",
    "while(x<len(numbers)):\n",
    "\n",
    "    s=numbers[x]*2.5\n",
    "    if s % 2 == 0:\n",
    "        first.append(int(s));\n",
    "    x+=1;\n",
    "\n",
    "first"
   ]
  },
  {
   "cell_type": "code",
   "execution_count": 11,
   "metadata": {},
   "outputs": [
    {
     "name": "stdout",
     "output_type": "stream",
     "text": [
      "Joe is a replicant\n",
      "K is a replicant\n",
      "Mike is a NOT replicant\n",
      "Joi is a replicant\n",
      "Luv is a replicant\n",
      "Deckard is a NOT replicant\n",
      "Wallace is a NOT replicant\n",
      "Rachel is a replicant\n"
     ]
    }
   ],
   "source": [
    "#Exercise 3.2\n",
    "\n",
    "rep = [\"Joe\", \"K\", \"Mike\", \"Joi\", \"Luv\", \"Deckard\", \"Wallace\", \"Rachel\"]\n",
    "\n",
    "for i in rep:\n",
    "    if(len(i)==3):\n",
    "        print(i+\" is a replicant\")\n",
    "    elif(len(i)==4):\n",
    "        print(i+\" is a NOT replicant\")\n",
    "    elif(len(i)==7):\n",
    "        print(i+\" is a NOT replicant\")\n",
    "    else:\n",
    "        print(i+\" is a replicant\")"
   ]
  },
  {
   "cell_type": "code",
   "execution_count": 12,
   "metadata": {},
   "outputs": [
    {
     "name": "stdout",
     "output_type": "stream",
     "text": [
      "Human\n",
      "Question\n",
      "CELL WITHIN CELLS\n",
      "Question\n",
      "INTERLINKED\n",
      "Question\n",
      "CELL\n",
      "Question\n",
      "CELL WITHIN CELLS\n",
      "Question\n",
      "CELL WITHIN CELLS\n",
      "Question\n",
      "INTERLINKED\n",
      "Question\n",
      "CELL\n",
      "Question\n",
      "CELL WITHIN CELLS\n",
      "Time to Finish\n"
     ]
    }
   ],
   "source": [
    "#Exercise 3.3\n",
    "print(\"Human\")\n",
    "for r in range(2):\n",
    "    k = 0\n",
    "    while k < 8:\n",
    "        if k % 2 == 0:\n",
    "            print(\"Question\")\n",
    "        elif k > 3 and k < 7:\n",
    "            print(\"CELL\")\n",
    "        elif k == 3:\n",
    "            print(\"INTERLINKED\")\n",
    "        else:\n",
    "            print(\"CELL WITHIN CELLS\")\n",
    "        k+= 1\n",
    "print(\"Time to Finish\")"
   ]
  },
  {
   "cell_type": "code",
   "execution_count": 19,
   "metadata": {},
   "outputs": [
    {
     "name": "stdout",
     "output_type": "stream",
     "text": [
      "Y =  0\n",
      "________\n",
      "X is equal to  4\n",
      "________\n",
      "Y =  2\n",
      "________\n",
      "X is equal to  5\n",
      "________\n",
      "Y =  4\n",
      "________\n",
      "X is equal to  6\n",
      "________\n",
      "Y =  6\n",
      "________\n",
      "X is equal to  7\n",
      "________\n",
      "Y =  8\n",
      "________\n",
      "X is equal to  8\n",
      "________\n"
     ]
    }
   ],
   "source": [
    "#Exercise 3.4\n",
    "y=0;k=4;x=0;\n",
    "while(y<=8):\n",
    "    \n",
    "    for x in range(9):\n",
    "        if((x-y)==k):\n",
    "            print(\"Y = \",y)\n",
    "            print(\"________\")\n",
    "            print(\"X is equal to \",x)\n",
    "            print(\"________\")\n",
    "        x+=1\n",
    "    y+=2\n",
    "    k-=1"
   ]
  },
  {
   "cell_type": "code",
   "execution_count": 22,
   "metadata": {},
   "outputs": [
    {
     "name": "stdout",
     "output_type": "stream",
     "text": [
      "('NATALIE', 'FAYE', 'CALLUM', 'TARA')\n"
     ]
    }
   ],
   "source": [
    "#Exercise 3.5\n",
    "\n",
    "students = [\"nAtalie\", \"M\", \"Fa ye\", \" Callum\", \"Tara\"]\n",
    "\n",
    "empty=[]\n",
    "\n",
    "for i in range(len(students)):\n",
    "    if(len(students[i])>1):\n",
    "        empty.append(students[i].upper().replace(\" \",\"\"))\n",
    "\n",
    "print(tuple(empty))\n",
    "    "
   ]
  },
  {
   "cell_type": "code",
   "execution_count": 32,
   "metadata": {},
   "outputs": [
    {
     "name": "stdout",
     "output_type": "stream",
     "text": [
      "Total =  1020\n",
      "Total =  2030\n",
      "Total =  3040\n",
      "End loop\n"
     ]
    }
   ],
   "source": [
    "#Exercise 3.6\n",
    "\n",
    "d1 = {\"k1\": [20, 30, 40], \"k2\": [1000, 2000, 3000]}\n",
    "\n",
    "p= tuple(zip(list(d1[\"k1\"]),list(d1[\"k2\"])))\n",
    "for t, m in p:\n",
    "    print(\"Total = \",t + m)\n",
    "print(\"End loop\")\n",
    "\n"
   ]
  },
  {
   "cell_type": "code",
   "execution_count": 33,
   "metadata": {},
   "outputs": [
    {
     "name": "stdout",
     "output_type": "stream",
     "text": [
      "Would you like popcorn with the film? no\n",
      "Would you like a soda drink? no\n",
      "Would you like a veggie burger?no\n",
      "That will be $0\n",
      "Enjoy the film!\n"
     ]
    }
   ],
   "source": [
    "#Exercise 3.7\n",
    "\n",
    "prices = {\"popcorn\": 5, \"soda\": 2, \"veggie burger\": 7}\n",
    "total = []\n",
    "val = 0\n",
    "while val < 2:\n",
    "    num1 = input(\"Would you like popcorn with the film? \")\n",
    "    if num1 == \"no\":\n",
    "        None\n",
    "    elif num1 == \"quit\":\n",
    "        print(\"Enjoy the film\")\n",
    "        break\n",
    "    else:\n",
    "        total.append(prices[\"popcorn\"])\n",
    "    num2 = input(\"Would you like a soda drink? \")\n",
    "    if num2 == \"no\":\n",
    "        None\n",
    "    elif num1 == \"quit\":\n",
    "        print(\"Enjoy the film\")\n",
    "        break\n",
    "    else:\n",
    "        total.append(prices[\"soda\"])\n",
    "    num3 = input(\"Would you like a veggie burger?\")\n",
    "    if num3 == \"no\":\n",
    "        None\n",
    "    elif num1 == \"quit\":\n",
    "        print(\"Enjoy the film\")\n",
    "        break\n",
    "    else:\n",
    "        total.append(prices[\"veggie burger\"])\n",
    "    val += 1\n",
    "    print(\"That will be $\" + str(sum(total)))\n",
    "    print(\"Enjoy the film!\")\n",
    "    break"
   ]
  },
  {
   "cell_type": "code",
   "execution_count": null,
   "metadata": {},
   "outputs": [],
   "source": []
  }
 ],
 "metadata": {
  "kernelspec": {
   "display_name": "Python 3",
   "language": "python",
   "name": "python3"
  },
  "language_info": {
   "codemirror_mode": {
    "name": "ipython",
    "version": 3
   },
   "file_extension": ".py",
   "mimetype": "text/x-python",
   "name": "python",
   "nbconvert_exporter": "python",
   "pygments_lexer": "ipython3",
   "version": "3.7.4"
  }
 },
 "nbformat": 4,
 "nbformat_minor": 2
}
