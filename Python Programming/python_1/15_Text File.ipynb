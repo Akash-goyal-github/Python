{
 "cells": [
  {
   "cell_type": "code",
   "execution_count": 8,
   "metadata": {},
   "outputs": [],
   "source": [
    "desk = \"C:/Users/Dell/Desktop/Python Programming/\"\n",
    "f = open(desk + \"first.txt\", \"w\")\n",
    "f.write(\"This is my first file!\")\n",
    "f.write(\"\\nHello world!\")\n",
    "f.close()"
   ]
  },
  {
   "cell_type": "code",
   "execution_count": 11,
   "metadata": {},
   "outputs": [
    {
     "data": {
      "text/plain": [
       "12"
      ]
     },
     "execution_count": 11,
     "metadata": {},
     "output_type": "execute_result"
    }
   ],
   "source": [
    "f1 = open(desk + \"first.txt\", \"a\")\n",
    "f1.write(\"\\nGood Night!\")"
   ]
  },
  {
   "cell_type": "code",
   "execution_count": 14,
   "metadata": {},
   "outputs": [],
   "source": [
    "with open(desk + \"first.txt\", \"a\") as g:\n",
    "    g.write(\"\\nCool!\")"
   ]
  },
  {
   "cell_type": "code",
   "execution_count": 15,
   "metadata": {},
   "outputs": [
    {
     "name": "stdout",
     "output_type": "stream",
     "text": [
      "This is my first file!\n",
      "Hello world!\n",
      "Good Night!\n",
      "Cool!\n"
     ]
    }
   ],
   "source": [
    "f2 = open(desk + \"first.txt\", \"r\")\n",
    "print(f2.read())\n",
    "f2.close()"
   ]
  },
  {
   "cell_type": "code",
   "execution_count": 20,
   "metadata": {},
   "outputs": [],
   "source": [
    "gear = [\"Blade Wolf\", \"Raiden\"]\n",
    "path = \"C:/Users/Dell/Desktop/Python Programming/FILE_{}/second.txt\"\n",
    "for i in range(len(gear)):\n",
    "    with open(path.format(i), \"w\") as f3:\n",
    "        f3.write(gear[i])\n",
    "        # f3.write(\"\\n\"+gear[1])\n",
    "        f3.write(\"\\n{} is cooler than {}\".format(gear[0], gear[1]))"
   ]
  },
  {
   "cell_type": "code",
   "execution_count": 22,
   "metadata": {},
   "outputs": [],
   "source": [
    "simpsons = [[\"Bart in detention\", \"Lisa at MIT\"],[\"Dougnuts...Mmm\", \"Homer: 'Nom, nom, nom!'\"]]\n",
    "transformers = [[\"HotRod opens matrix\", \"Optimus returns!\"],[\"Unicron explodes\", \"Megatron jumps\"]]\n",
    "\n",
    "def File(text):\n",
    "    path = \"C:/Users/Dell/Desktop/Python Programming/\"\n",
    "    for i in range(len(text)):\n",
    "        with open(path + \"cartoon_{}.txt\".format(i),\"w\") as f:\n",
    "            f.write(text[i][0])\n",
    "            f.write(\"\\n\"+text[i][1])\n",
    "File(transformers)"
   ]
  },
  {
   "cell_type": "code",
   "execution_count": 27,
   "metadata": {},
   "outputs": [],
   "source": [
    "dc = open(\"skynet.txt\", \"w\")\n",
    "dc.write(\"\"\"Terminator is \\n\n",
    "hunting John connor \\n\n",
    "and Sarah is protecting him\"\"\")\n",
    "dc.close()"
   ]
  },
  {
   "cell_type": "code",
   "execution_count": 28,
   "metadata": {},
   "outputs": [],
   "source": [
    "d = open(\"skynet.txt\", \"r+\")\n",
    "d.write(\"\\n hasta la vista baby!\")\n",
    "end = d.readlines()\n",
    "d.close()"
   ]
  },
  {
   "cell_type": "code",
   "execution_count": 29,
   "metadata": {},
   "outputs": [],
   "source": [
    "film = \"\".join(end)"
   ]
  },
  {
   "cell_type": "code",
   "execution_count": 30,
   "metadata": {},
   "outputs": [
    {
     "data": {
      "text/plain": [
       "False"
      ]
     },
     "execution_count": 30,
     "metadata": {},
     "output_type": "execute_result"
    }
   ],
   "source": [
    "\"Carl\" in film.replace(\"\\n\", \" \").split()"
   ]
  },
  {
   "cell_type": "code",
   "execution_count": null,
   "metadata": {},
   "outputs": [],
   "source": []
  }
 ],
 "metadata": {
  "kernelspec": {
   "display_name": "Python 3",
   "language": "python",
   "name": "python3"
  },
  "language_info": {
   "codemirror_mode": {
    "name": "ipython",
    "version": 3
   },
   "file_extension": ".py",
   "mimetype": "text/x-python",
   "name": "python",
   "nbconvert_exporter": "python",
   "pygments_lexer": "ipython3",
   "version": "3.7.4"
  }
 },
 "nbformat": 4,
 "nbformat_minor": 2
}
