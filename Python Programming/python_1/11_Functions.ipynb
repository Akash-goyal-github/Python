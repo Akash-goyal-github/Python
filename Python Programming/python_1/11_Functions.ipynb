{
 "cells": [
  {
   "cell_type": "code",
   "execution_count": 3,
   "metadata": {},
   "outputs": [
    {
     "data": {
      "text/plain": [
       "200"
      ]
     },
     "execution_count": 3,
     "metadata": {},
     "output_type": "execute_result"
    }
   ],
   "source": [
    "def square(arg1=20, arg2=50):\n",
    "    \"\"\"This adds two numbers together\"\"\"\n",
    "    return( arg1 + arg2)\n",
    "val = square(90, 110)\n",
    "val"
   ]
  },
  {
   "cell_type": "code",
   "execution_count": 4,
   "metadata": {},
   "outputs": [
    {
     "name": "stdout",
     "output_type": "stream",
     "text": [
      "16\n",
      "64\n",
      "256\n"
     ]
    },
    {
     "data": {
      "text/plain": [
       "336"
      ]
     },
     "execution_count": 4,
     "metadata": {},
     "output_type": "execute_result"
    }
   ],
   "source": [
    "def squared(num):\n",
    "    return num**2\n",
    "def cubed(num):\n",
    "    return num**3\n",
    "def quad(num):\n",
    "    return num**4\n",
    "v = 4\n",
    "print(squared(v))\n",
    "print(cubed(v))\n",
    "print(quad(v))\n",
    "total = squared(v) + cubed(v) + quad(v)\n",
    "total"
   ]
  },
  {
   "cell_type": "code",
   "execution_count": 5,
   "metadata": {},
   "outputs": [],
   "source": [
    "def greet():\n",
    "    \"\"\"Enter the time and print appropriate greeting!\"\"\"\n",
    "    time = eval(input(\"Enter the time: \"))\n",
    "    if time >= 6 and time < 12:\n",
    "        print(\"Good morning!\")\n",
    "\n",
    "        return squared(time)\n",
    "    elif time >= 12 and time < 18:\n",
    "        print(\"Afternoon!\")\n",
    "        return cubed(time)\n",
    "    elif time >= 18 and time < 21:\n",
    "        print(\"Good evening!\")\n",
    "        return quad(time)\n",
    "    else:\n",
    "        print(\"Good night!\")\n",
    "        return time"
   ]
  },
  {
   "cell_type": "code",
   "execution_count": 6,
   "metadata": {},
   "outputs": [
    {
     "name": "stdout",
     "output_type": "stream",
     "text": [
      "Enter the time: 7\n",
      "Good morning!\n"
     ]
    }
   ],
   "source": [
    "number =greet()"
   ]
  },
  {
   "cell_type": "code",
   "execution_count": 7,
   "metadata": {},
   "outputs": [
    {
     "data": {
      "text/plain": [
       "49"
      ]
     },
     "execution_count": 7,
     "metadata": {},
     "output_type": "execute_result"
    }
   ],
   "source": [
    "number"
   ]
  },
  {
   "cell_type": "markdown",
   "metadata": {},
   "source": [
    "#### Random Function"
   ]
  },
  {
   "cell_type": "code",
   "execution_count": 8,
   "metadata": {},
   "outputs": [],
   "source": [
    "import random as rd\n",
    "from random import *"
   ]
  },
  {
   "cell_type": "code",
   "execution_count": 9,
   "metadata": {},
   "outputs": [
    {
     "data": {
      "text/plain": [
       "90"
      ]
     },
     "execution_count": 9,
     "metadata": {},
     "output_type": "execute_result"
    }
   ],
   "source": [
    "rd.random()\n",
    "rd.randint(10, 20)\n",
    "rd.randrange(10, 100, 10)"
   ]
  },
  {
   "cell_type": "code",
   "execution_count": 10,
   "metadata": {},
   "outputs": [
    {
     "data": {
      "text/plain": [
       "11"
      ]
     },
     "execution_count": 10,
     "metadata": {},
     "output_type": "execute_result"
    }
   ],
   "source": [
    "random()\n",
    "randint(10, 20)"
   ]
  },
  {
   "cell_type": "code",
   "execution_count": 12,
   "metadata": {},
   "outputs": [
    {
     "data": {
      "text/plain": [
       "584"
      ]
     },
     "execution_count": 12,
     "metadata": {},
     "output_type": "execute_result"
    }
   ],
   "source": [
    "rd.randint(50, 100)*8"
   ]
  },
  {
   "cell_type": "code",
   "execution_count": 13,
   "metadata": {},
   "outputs": [
    {
     "data": {
      "text/plain": [
       "2.862095878374258"
      ]
     },
     "execution_count": 13,
     "metadata": {},
     "output_type": "execute_result"
    }
   ],
   "source": [
    "rd.uniform(2, 3)"
   ]
  },
  {
   "cell_type": "code",
   "execution_count": 16,
   "metadata": {},
   "outputs": [
    {
     "data": {
      "text/plain": [
       "['🐈', '🐎', '🐍', '🐕']"
      ]
     },
     "execution_count": 16,
     "metadata": {},
     "output_type": "execute_result"
    }
   ],
   "source": [
    "animals = [\"\\N{cat}\", \"\\N{dog}\", \"\\N{snake}\", \"\\N{horse}\"]\n",
    "type(animals)\n",
    "rd.shuffle(animals)\n",
    "animals"
   ]
  },
  {
   "cell_type": "code",
   "execution_count": 17,
   "metadata": {},
   "outputs": [
    {
     "name": "stdout",
     "output_type": "stream",
     "text": [
      "Ironman VS Venom\n",
      "Spiderman VS Joker\n",
      "Captain America VS Red Skull\n",
      "Batman VS Thanos\n"
     ]
    }
   ],
   "source": [
    "heroes = [\"Batman\", \"Spiderman\", \"Ironman\", \"Captain America\"]\n",
    "villains = [\"Joker\", \"Venom\", \"Thanos\", \"Red Skull\"]\n",
    "numbers = list(range(len(heroes)))\n",
    "numbers\n",
    "rd.shuffle(heroes) ; rd.shuffle(villains)\n",
    "for i in numbers:\n",
    "    print(heroes[i], \"VS\", villains[i])"
   ]
  },
  {
   "cell_type": "code",
   "execution_count": 18,
   "metadata": {},
   "outputs": [
    {
     "data": {
      "text/plain": [
       "['Gracie',\n",
       " 'Gracie',\n",
       " 'Gracie',\n",
       " 'Gracie',\n",
       " 'Gracie',\n",
       " 'Gracie',\n",
       " 'Gracie',\n",
       " 'Gracie',\n",
       " 'Gracie',\n",
       " 'Gracie']"
      ]
     },
     "execution_count": 18,
     "metadata": {},
     "output_type": "execute_result"
    }
   ],
   "source": [
    "# probabilities = [0.25]*4\n",
    "probabilities = [0.9, 0.01, 0.01 , 0.08]\n",
    "students = [\"Gracie\", \"Callum\", \"Blaise\", \"Tommy\"]\n",
    "rd.choices(students, probabilities, k = 10)"
   ]
  },
  {
   "cell_type": "code",
   "execution_count": 19,
   "metadata": {},
   "outputs": [
    {
     "data": {
      "text/plain": [
       "100"
      ]
     },
     "execution_count": 19,
     "metadata": {},
     "output_type": "execute_result"
    }
   ],
   "source": [
    "len(rd.sample(range(1, 101), k= 100))"
   ]
  },
  {
   "cell_type": "code",
   "execution_count": null,
   "metadata": {},
   "outputs": [],
   "source": []
  },
  {
   "cell_type": "code",
   "execution_count": 20,
   "metadata": {},
   "outputs": [
    {
     "data": {
      "text/plain": [
       "[83, 14, 64, 71, 11, 36, 69, 72, 45, 93]"
      ]
     },
     "execution_count": 20,
     "metadata": {},
     "output_type": "execute_result"
    }
   ],
   "source": [
    "import random as rd\n",
    "rd.seed(10)\n",
    "numbers = rd.sample(range(10, 100), k = 10)\n",
    "numbers"
   ]
  },
  {
   "cell_type": "code",
   "execution_count": 21,
   "metadata": {},
   "outputs": [
    {
     "data": {
      "text/plain": [
       "100"
      ]
     },
     "execution_count": 21,
     "metadata": {},
     "output_type": "execute_result"
    }
   ],
   "source": [
    "max(numbers)\n",
    "min(numbers)\n",
    "sum(numbers)\n",
    "round(9.12345, 4)\n",
    "abs(10)\n",
    "eval(\"4.5\")\n",
    "pow(4, 2)\n",
    "10**2"
   ]
  },
  {
   "cell_type": "code",
   "execution_count": 23,
   "metadata": {},
   "outputs": [
    {
     "data": {
      "text/plain": [
       "[121, 196, 1296, 2025, 4096, 4761, 5041, 5184, 6889, 8649]"
      ]
     },
     "execution_count": 23,
     "metadata": {},
     "output_type": "execute_result"
    }
   ],
   "source": [
    "new_numbers = sorted(numbers)\n",
    "new_numbers\n",
    "[pow(x, 2) for x in new_numbers]"
   ]
  },
  {
   "cell_type": "code",
   "execution_count": 24,
   "metadata": {},
   "outputs": [
    {
     "data": {
      "text/plain": [
       "3"
      ]
     },
     "execution_count": 24,
     "metadata": {},
     "output_type": "execute_result"
    }
   ],
   "source": [
    "sum([i < 40 for i in new_numbers])"
   ]
  },
  {
   "cell_type": "code",
   "execution_count": 25,
   "metadata": {},
   "outputs": [
    {
     "data": {
      "text/plain": [
       "['10', 8.12345, 100, -30, -200]"
      ]
     },
     "execution_count": 25,
     "metadata": {},
     "output_type": "execute_result"
    }
   ],
   "source": [
    "data = [\"10\", 8.12345, 100, -30, -200]\n",
    "data"
   ]
  },
  {
   "cell_type": "code",
   "execution_count": 26,
   "metadata": {},
   "outputs": [
    {
     "data": {
      "text/plain": [
       "['10', 8.12345, 100, -30, -200]"
      ]
     },
     "execution_count": 26,
     "metadata": {},
     "output_type": "execute_result"
    }
   ],
   "source": [
    "new_data = eval(data[0]) + int(data[1]) + data[2] + abs(data[3]) + abs(data[4])\n",
    "new_data\n",
    "data"
   ]
  },
  {
   "cell_type": "code",
   "execution_count": 28,
   "metadata": {},
   "outputs": [
    {
     "data": {
      "text/plain": [
       "'The top three values 200, 100, and 30. My favourite number is 200'"
      ]
     },
     "execution_count": 28,
     "metadata": {},
     "output_type": "execute_result"
    }
   ],
   "source": [
    "clean_data = sorted([abs(k) for k in [int(i) for i in data]])[2:][3::-1]\n",
    "clean_data\n",
    "\"The top three values {0}, {1}, and {2}. My favourite number is {0}\".format(*clean_data)"
   ]
  },
  {
   "cell_type": "code",
   "execution_count": null,
   "metadata": {},
   "outputs": [],
   "source": []
  }
 ],
 "metadata": {
  "kernelspec": {
   "display_name": "Python 3",
   "language": "python",
   "name": "python3"
  },
  "language_info": {
   "codemirror_mode": {
    "name": "ipython",
    "version": 3
   },
   "file_extension": ".py",
   "mimetype": "text/x-python",
   "name": "python",
   "nbconvert_exporter": "python",
   "pygments_lexer": "ipython3",
   "version": "3.7.4"
  }
 },
 "nbformat": 4,
 "nbformat_minor": 2
}
