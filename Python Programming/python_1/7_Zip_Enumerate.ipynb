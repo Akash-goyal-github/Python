{
 "cells": [
  {
   "cell_type": "code",
   "execution_count": 1,
   "metadata": {},
   "outputs": [
    {
     "name": "stdout",
     "output_type": "stream",
     "text": [
      "200 10\n",
      "201 15\n",
      "202 20\n",
      "203 25\n",
      "204 30\n",
      "205 35\n"
     ]
    }
   ],
   "source": [
    "for count,i in enumerate(range(10, 40, 5), 200):\n",
    "    print(count, i)"
   ]
  },
  {
   "cell_type": "code",
   "execution_count": 2,
   "metadata": {},
   "outputs": [
    {
     "data": {
      "text/plain": [
       "[(33, 10), (49, 20), (55, 30)]"
      ]
     },
     "execution_count": 2,
     "metadata": {},
     "output_type": "execute_result"
    }
   ],
   "source": [
    "tup1 = (33, 49, 55)\n",
    "mylist = [10, 20, 30]\n",
    "z = list(zip(tup1, mylist))\n",
    "z"
   ]
  },
  {
   "cell_type": "code",
   "execution_count": 4,
   "metadata": {},
   "outputs": [
    {
     "name": "stdout",
     "output_type": "stream",
     "text": [
      "43\n",
      "69\n",
      "85\n"
     ]
    }
   ],
   "source": [
    "for t, m in z:\n",
    "    print(t + m)"
   ]
  },
  {
   "cell_type": "code",
   "execution_count": 5,
   "metadata": {},
   "outputs": [
    {
     "name": "stdout",
     "output_type": "stream",
     "text": [
      "43\n",
      "69\n",
      "85\n"
     ]
    }
   ],
   "source": [
    "for i in range(3):\n",
    "    print(tup1[i] + mylist[i])"
   ]
  },
  {
   "cell_type": "code",
   "execution_count": 6,
   "metadata": {},
   "outputs": [
    {
     "name": "stdout",
     "output_type": "stream",
     "text": [
      "apples = 2\n",
      "chips = 3\n",
      "bread = 1.2\n",
      "icecream = 4.25\n"
     ]
    }
   ],
   "source": [
    "groceries = [\"apples\", \"chips\", \"bread\", \"icecream\"]\n",
    "prices = [2, 3, 1.2, 4.25]\n",
    "for food in range(4):\n",
    "    print(groceries[food], \"=\" , prices[food])"
   ]
  },
  {
   "cell_type": "code",
   "execution_count": 7,
   "metadata": {},
   "outputs": [
    {
     "name": "stdout",
     "output_type": "stream",
     "text": [
      "apples = 2\n",
      "chips = 3\n",
      "bread = 1.2\n",
      "icecream = 4.25\n"
     ]
    }
   ],
   "source": [
    "zip_shop = (zip(groceries, prices))\n",
    "zip_shop\n",
    "for g, p in zip_shop:\n",
    "    print(g, \"=\", p)"
   ]
  },
  {
   "cell_type": "code",
   "execution_count": 9,
   "metadata": {},
   "outputs": [
    {
     "name": "stdout",
     "output_type": "stream",
     "text": [
      "100\n",
      "7\n",
      "90 90\n",
      "50\n"
     ]
    }
   ],
   "source": [
    "num1 = [100, 2, 90, 10] ; num2 = [12, 7, 90, 50]\n",
    "zip_num = zip(num1, num2)\n",
    "for i, j in zip_num:\n",
    "    if i > j:\n",
    "        print(i)\n",
    "    elif i < j:\n",
    "        print(j)\n",
    "    else:\n",
    "        print(i, j)"
   ]
  },
  {
   "cell_type": "code",
   "execution_count": 10,
   "metadata": {},
   "outputs": [
    {
     "name": "stdout",
     "output_type": "stream",
     "text": [
      "100\n",
      "7\n",
      "90 90\n",
      "50\n"
     ]
    }
   ],
   "source": [
    "for i in range(4):\n",
    "    if num1[i] > num2[i]:\n",
    "        print(num1[i])\n",
    "    elif num1[i] < num2[i]:\n",
    "        print(num2[i])\n",
    "    else:\n",
    "        print(num1[i], num2[i])"
   ]
  },
  {
   "cell_type": "markdown",
   "metadata": {},
   "source": [
    "#### To tak list in a cycle"
   ]
  },
  {
   "cell_type": "code",
   "execution_count": 11,
   "metadata": {},
   "outputs": [
    {
     "data": {
      "text/plain": [
       "[20, 50, 40, 100, 60, 150, 80, 200, 100, 250, 120, 300]"
      ]
     },
     "execution_count": 11,
     "metadata": {},
     "output_type": "execute_result"
    }
   ],
   "source": [
    "numbers = list(range(10,70, 10))\n",
    "numbers\n",
    "values = [2, 5]\n",
    "import itertools\n",
    "from itertools import cycle as cy\n",
    "val1 = [2] ; val2 = [5]\n",
    "zip_val = list(zip(numbers, cy(val1), cy(val2)))\n",
    "calc = []\n",
    "for n, v, z in zip_val:\n",
    "    s = n *v\n",
    "    t = n * z\n",
    "    calc.append(s)\n",
    "    calc.append(t)\n",
    "calc\n",
    "# len(calc)"
   ]
  },
  {
   "cell_type": "code",
   "execution_count": null,
   "metadata": {},
   "outputs": [],
   "source": []
  },
  {
   "cell_type": "code",
   "execution_count": null,
   "metadata": {},
   "outputs": [],
   "source": []
  },
  {
   "cell_type": "code",
   "execution_count": null,
   "metadata": {},
   "outputs": [],
   "source": []
  },
  {
   "cell_type": "code",
   "execution_count": null,
   "metadata": {},
   "outputs": [],
   "source": []
  },
  {
   "cell_type": "code",
   "execution_count": null,
   "metadata": {},
   "outputs": [],
   "source": []
  },
  {
   "cell_type": "code",
   "execution_count": null,
   "metadata": {},
   "outputs": [],
   "source": []
  }
 ],
 "metadata": {
  "kernelspec": {
   "display_name": "Python 3",
   "language": "python",
   "name": "python3"
  },
  "language_info": {
   "codemirror_mode": {
    "name": "ipython",
    "version": 3
   },
   "file_extension": ".py",
   "mimetype": "text/x-python",
   "name": "python",
   "nbconvert_exporter": "python",
   "pygments_lexer": "ipython3",
   "version": "3.7.4"
  }
 },
 "nbformat": 4,
 "nbformat_minor": 2
}
