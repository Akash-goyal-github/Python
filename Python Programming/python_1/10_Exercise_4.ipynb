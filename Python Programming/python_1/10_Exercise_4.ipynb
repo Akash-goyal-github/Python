{
 "cells": [
  {
   "cell_type": "code",
   "execution_count": 1,
   "metadata": {},
   "outputs": [
    {
     "data": {
      "text/plain": [
       "[30, 31, 32, 33, 34, 35, 36, 37, 38, 39]"
      ]
     },
     "execution_count": 1,
     "metadata": {},
     "output_type": "execute_result"
    }
   ],
   "source": [
    "#Exersice 4.1\n",
    "\n",
    "simple = []\n",
    "for i in range(10):\n",
    "    s = i + 30\n",
    "    simple.append(s)\n",
    "simple"
   ]
  },
  {
   "cell_type": "code",
   "execution_count": 2,
   "metadata": {},
   "outputs": [
    {
     "data": {
      "text/plain": [
       "[30, 31, 32, 33, 34, 35, 36, 37, 38, 39]"
      ]
     },
     "execution_count": 2,
     "metadata": {},
     "output_type": "execute_result"
    }
   ],
   "source": [
    "[i+30 for i in range(10)]"
   ]
  },
  {
   "cell_type": "code",
   "execution_count": 3,
   "metadata": {},
   "outputs": [
    {
     "data": {
      "text/plain": [
       "['The number is 0',\n",
       " 'The number is 2',\n",
       " 'The number is 4',\n",
       " 'The number is 6',\n",
       " 'The number is 8']"
      ]
     },
     "execution_count": 3,
     "metadata": {},
     "output_type": "execute_result"
    }
   ],
   "source": [
    "#Exersice 4.2\n",
    "\n",
    "x= 0\n",
    "case = []\n",
    "while x < 10:\n",
    "    s = \"The number is \" + str(x)\n",
    "    case.append(s)\n",
    "    x += 2\n",
    "case"
   ]
  },
  {
   "cell_type": "code",
   "execution_count": 5,
   "metadata": {},
   "outputs": [
    {
     "data": {
      "text/plain": [
       "['The number is 0',\n",
       " 'The number is 2',\n",
       " 'The number is 4',\n",
       " 'The number is 6',\n",
       " 'The number is 8']"
      ]
     },
     "execution_count": 5,
     "metadata": {},
     "output_type": "execute_result"
    }
   ],
   "source": [
    "[\"The number is \" + str(x) for x in range(0, 10, 2)]"
   ]
  },
  {
   "cell_type": "code",
   "execution_count": 8,
   "metadata": {},
   "outputs": [
    {
     "data": {
      "text/plain": [
       "[1728, 2744, 4096, 5832]"
      ]
     },
     "execution_count": 8,
     "metadata": {},
     "output_type": "execute_result"
    }
   ],
   "source": [
    "#Exersice 4.3\n",
    "\n",
    "[d**3 for d in range(20) if(d%2==0 and d>10)]"
   ]
  },
  {
   "cell_type": "code",
   "execution_count": 9,
   "metadata": {},
   "outputs": [
    {
     "data": {
      "text/plain": [
       "{'k3': 495}"
      ]
     },
     "execution_count": 9,
     "metadata": {},
     "output_type": "execute_result"
    }
   ],
   "source": [
    "#Exersice 4.4\n",
    "\n",
    "d2 = {\"k1\": [(g + 20 * g) for g in range(10) if g < 5],\"k2\": [e*e for e in range(20) if e < 10]}\n",
    "d3 = {\"k3\": sum(d2[\"k1\"]) + sum(d2[\"k2\"])}\n",
    "d3"
   ]
  },
  {
   "cell_type": "code",
   "execution_count": null,
   "metadata": {},
   "outputs": [],
   "source": []
  }
 ],
 "metadata": {
  "kernelspec": {
   "display_name": "Python 3",
   "language": "python",
   "name": "python3"
  },
  "language_info": {
   "codemirror_mode": {
    "name": "ipython",
    "version": 3
   },
   "file_extension": ".py",
   "mimetype": "text/x-python",
   "name": "python",
   "nbconvert_exporter": "python",
   "pygments_lexer": "ipython3",
   "version": "3.7.4"
  }
 },
 "nbformat": 4,
 "nbformat_minor": 2
}
