{
 "cells": [
  {
   "cell_type": "code",
   "execution_count": 1,
   "metadata": {},
   "outputs": [],
   "source": [
    "#Exercise 5.1\n",
    "\n",
    "def compute(rad, num):\n",
    "    import random as rd\n",
    "    rd.seed(10)\n",
    "    numbers = range(1, rd.randint(1, rad))\n",
    "    calc = []\n",
    "    for i in range(len(numbers)):\n",
    "        if numbers[i] %2 == num and numbers[i] > 10:\n",
    "            s = numbers[i]\n",
    "            calc.append(s)\n",
    "        else:\n",
    "            s = 0\n",
    "            calc.append(s)\n",
    "    print(sum(calc))\n",
    "    return calc"
   ]
  },
  {
   "cell_type": "code",
   "execution_count": 2,
   "metadata": {},
   "outputs": [
    {
     "name": "stdout",
     "output_type": "stream",
     "text": [
      "56\n"
     ]
    },
    {
     "data": {
      "text/plain": [
       "[0, 0, 0, 0, 0, 0, 0, 0, 0, 0, 11, 0, 13, 0, 15, 0, 17, 0]"
      ]
     },
     "execution_count": 2,
     "metadata": {},
     "output_type": "execute_result"
    }
   ],
   "source": [
    "compute(20, 1)"
   ]
  },
  {
   "cell_type": "code",
   "execution_count": 3,
   "metadata": {},
   "outputs": [
    {
     "name": "stdout",
     "output_type": "stream",
     "text": [
      "My favourite language is Python.\n",
      "The coolest part about Python is functions\n"
     ]
    }
   ],
   "source": [
    "#Exercise 5.2\n",
    "\n",
    "def lang(program = \"JavaScript\"):\n",
    "    print(\"My favourite language is {}.\".format(program))\n",
    "def udemy(program):\n",
    "    lang(program)\n",
    "    print(\"The coolest part about {} is functions\".format(program))\n",
    "udemy(\"Python\")"
   ]
  },
  {
   "cell_type": "code",
   "execution_count": 4,
   "metadata": {},
   "outputs": [
    {
     "name": "stdout",
     "output_type": "stream",
     "text": [
      "Student name: Michael\n",
      "Hello there, Michael !\n",
      "Student name: Sarah\n",
      "Hello there, Sarah !\n",
      "Student name: Callum\n",
      "Hello there, Callum !\n"
     ]
    }
   ],
   "source": [
    "#Exercise 5.3\n",
    "\n",
    "def greet(name= \"Michael\"):\n",
    "    print(\"Hello there, \" + name,\"!\")\n",
    "\n",
    "def repeat(n):\n",
    "    for i in range(n):\n",
    "        name = input(\"Student name: \")\n",
    "        greet(name)\n",
    "repeat(3)\n"
   ]
  },
  {
   "cell_type": "code",
   "execution_count": 5,
   "metadata": {},
   "outputs": [],
   "source": [
    "#Exercise 5.4\n",
    "\n",
    "def survivor(name= \"Michael\"):\n",
    "    zomb1 = input(\"How many zombies are there? \")\n",
    "    zombie = eval(zomb1)\n",
    "    if zombie >= 1 and zombie < 20:\n",
    "        print(\"{} is fighting {} zombies!\".format(name, zombie))\n",
    "    elif zombie >=20 and zombie < 100:\n",
    "        print(\"{} is shooting {} zombies!\".format(name, zombie))\n",
    "    elif zombie >= 100 and zombie < 200:\n",
    "        print(\"{} is running from {} zombies!\" .format(name, zombie))\n",
    "    else:\n",
    "        print(\"{} is eaten ALIVE by {} zombies!!!!!\".format(name, zombie))"
   ]
  },
  {
   "cell_type": "code",
   "execution_count": 6,
   "metadata": {},
   "outputs": [
    {
     "name": "stdout",
     "output_type": "stream",
     "text": [
      "How many zombies are there? 220\n",
      "Daryl is eaten ALIVE by 220 zombies!!!!!\n"
     ]
    }
   ],
   "source": [
    "survivor(\"Daryl\")"
   ]
  },
  {
   "cell_type": "code",
   "execution_count": null,
   "metadata": {},
   "outputs": [],
   "source": []
  }
 ],
 "metadata": {
  "kernelspec": {
   "display_name": "Python 3",
   "language": "python",
   "name": "python3"
  },
  "language_info": {
   "codemirror_mode": {
    "name": "ipython",
    "version": 3
   },
   "file_extension": ".py",
   "mimetype": "text/x-python",
   "name": "python",
   "nbconvert_exporter": "python",
   "pygments_lexer": "ipython3",
   "version": "3.7.4"
  }
 },
 "nbformat": 4,
 "nbformat_minor": 2
}
