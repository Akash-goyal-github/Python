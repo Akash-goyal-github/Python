{
 "cells": [
  {
   "cell_type": "code",
   "execution_count": 63,
   "metadata": {},
   "outputs": [],
   "source": [
    "#Exercise 1.1\n",
    "\n",
    "prices = [\"a\", \"b\", \"9\",\"c\",\"d\",\"FOUR\",\"e\",\"f\",\"2.5\"]\n",
    "sentence = \"\"\"The bill for the {}#!/,??{}#!/ ??and drink came to {}??\"\"\""
   ]
  },
  {
   "cell_type": "code",
   "execution_count": 67,
   "metadata": {},
   "outputs": [
    {
     "data": {
      "text/plain": [
       "'The bill for the pizza ,chips  and drink came to $15.5'"
      ]
     },
     "execution_count": 67,
     "metadata": {},
     "output_type": "execute_result"
    }
   ],
   "source": [
    "item=prices[2::3]\n",
    "item\n",
    "pizza=eval(item[0])\n",
    "chips=len(item[1])\n",
    "pizza\n",
    "chips\n",
    "drink=eval(item[2])\n",
    "drink\n",
    "sentence.format(\"pizza \" ,\"chips \",\"$\" + str(pizza+chips+drink)).replace(\"#!/\",\"\").replace(\"??\",\"\")\n"
   ]
  },
  {
   "cell_type": "code",
   "execution_count": 70,
   "metadata": {},
   "outputs": [],
   "source": [
    "#Exercise 1.2\n",
    "\n",
    "toys = {\"robot\": \"$40.0\", \"car\": \"$25\", \"ironman\": \"$12\"}\n"
   ]
  },
  {
   "cell_type": "code",
   "execution_count": 75,
   "metadata": {},
   "outputs": [
    {
     "data": {
      "text/plain": [
       "77"
      ]
     },
     "execution_count": 75,
     "metadata": {},
     "output_type": "execute_result"
    }
   ],
   "source": [
    "int(eval(list(toys.values())[0][1:]) +\n",
    "        eval(list(toys.values())[1][1:])+\n",
    "        eval(list(toys.values())[2][1:]))\n"
   ]
  },
  {
   "cell_type": "code",
   "execution_count": 77,
   "metadata": {},
   "outputs": [
    {
     "data": {
      "text/plain": [
       "[True, True, False, True, False]"
      ]
     },
     "execution_count": 77,
     "metadata": {},
     "output_type": "execute_result"
    }
   ],
   "source": [
    "#Exercise 1.3\n",
    "\n",
    "questions = [10!= 4, 50== 50, 90== 10, \"c\" in (\"a\", \"b\", \"c\"), 100!= 100]\n",
    "questions"
   ]
  },
  {
   "cell_type": "code",
   "execution_count": 82,
   "metadata": {},
   "outputs": [
    {
     "data": {
      "text/plain": [
       "True"
      ]
     },
     "execution_count": 82,
     "metadata": {},
     "output_type": "execute_result"
    }
   ],
   "source": [
    "#Exercise 1.4\n",
    "\n",
    "films = {\"k1\": \"blade runner\", \"k2\": \"matrix\", \"k3\": \"terminator\"}\n",
    "\n",
    "len(films[\"k1\"]) >len(films[\"k2\"])<len(films[\"k3\"])"
   ]
  },
  {
   "cell_type": "code",
   "execution_count": 84,
   "metadata": {},
   "outputs": [],
   "source": [
    "#Exercise 1.5\n",
    "\n",
    "life_stages = {0: \"embryo\", 1: \"fetus\", 2:\"baby\", 3:\"infant\",4: \"teen\"}"
   ]
  },
  {
   "cell_type": "code",
   "execution_count": 90,
   "metadata": {},
   "outputs": [
    {
     "data": {
      "text/plain": [
       "{0: 'embryo',\n",
       " 1: 'fetus',\n",
       " 2: 'baby',\n",
       " 3: 'infant',\n",
       " 4: 'teen',\n",
       " 5: 'adult',\n",
       " 6: 'big kid'}"
      ]
     },
     "execution_count": 90,
     "metadata": {},
     "output_type": "execute_result"
    }
   ],
   "source": [
    "sec={5: \"adult\",6: \"big kid\"}\n",
    "life_stages.update(sec)\n",
    "life_stages"
   ]
  },
  {
   "cell_type": "code",
   "execution_count": 5,
   "metadata": {},
   "outputs": [
    {
     "data": {
      "text/plain": [
       "833.0"
      ]
     },
     "execution_count": 5,
     "metadata": {},
     "output_type": "execute_result"
    }
   ],
   "source": [
    "#Exercise 1.6\n",
    "\n",
    "nest1 = [(1,2,3), {\"k1\": [8, 1, 300, 2, 77], \"k2\": [10,20,30]}, [\"a\",\"500\", \"c\"]]\n",
    "nest1[0][2]+sorted(nest1[1][\"k1\"])[-1]+nest1[1][\"k2\"][2]+float(nest1[2][1])"
   ]
  },
  {
   "cell_type": "code",
   "execution_count": null,
   "metadata": {},
   "outputs": [],
   "source": []
  }
 ],
 "metadata": {
  "kernelspec": {
   "display_name": "Python 3",
   "language": "python",
   "name": "python3"
  },
  "language_info": {
   "codemirror_mode": {
    "name": "ipython",
    "version": 3
   },
   "file_extension": ".py",
   "mimetype": "text/x-python",
   "name": "python",
   "nbconvert_exporter": "python",
   "pygments_lexer": "ipython3",
   "version": "3.7.4"
  }
 },
 "nbformat": 4,
 "nbformat_minor": 2
}
